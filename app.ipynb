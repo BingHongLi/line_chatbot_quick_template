{
 "cells": [
  {
   "cell_type": "code",
   "execution_count": 9,
   "metadata": {},
   "outputs": [
    {
     "data": {
      "text/plain": [
       "'\\n\\n整體功能描述\\n\\n'"
      ]
     },
     "execution_count": 9,
     "metadata": {},
     "output_type": "execute_result"
    }
   ],
   "source": [
    "'''\n",
    "\n",
    "整體功能描述\n",
    "\n",
    "'''"
   ]
  },
  {
   "cell_type": "code",
   "execution_count": 10,
   "metadata": {},
   "outputs": [],
   "source": [
    "'''\n",
    "\n",
    "Application 主架構\n",
    "\n",
    "'''\n",
    "\n",
    "# 引用Web Server套件\n",
    "from flask import Flask, request, abort\n",
    "\n",
    "# 從linebot 套件包裡引用 LineBotApi 與 WebhookHandler 類別\n",
    "from linebot import (\n",
    "    LineBotApi, WebhookHandler\n",
    ")\n",
    "\n",
    "# 引用無效簽章錯誤\n",
    "from linebot.exceptions import (\n",
    "    InvalidSignatureError\n",
    ")\n",
    "\n",
    "# 載入json處理套件\n",
    "import json\n",
    "\n",
    "# 載入基礎設定檔\n",
    "secretFileContentJson=json.load(open(\"./line_secret_key\",'r'))\n",
    "server_url=secretFileContentJson.get(\"server_url\")\n",
    "\n",
    "# 設定Server啟用細節\n",
    "app = Flask(__name__,static_url_path = \"/素材\" , static_folder = \"./素材/\")\n",
    "\n",
    "# 生成實體物件\n",
    "line_bot_api = LineBotApi(secretFileContentJson.get(\"channel_access_token\"))\n",
    "handler = WebhookHandler(secretFileContentJson.get(\"secret_key\"))\n",
    "\n",
    "# 啟動server對外接口，使Line能丟消息進來\n",
    "@app.route(\"/\", methods=['POST'])\n",
    "def callback():\n",
    "    # get X-Line-Signature header value\n",
    "    signature = request.headers['X-Line-Signature']\n",
    "\n",
    "    # get request body as text\n",
    "    body = request.get_data(as_text=True)\n",
    "    app.logger.info(\"Request body: \" + body)\n",
    "\n",
    "    # handle webhook body\n",
    "    try:\n",
    "        handler.handle(body, signature)\n",
    "    except InvalidSignatureError:\n",
    "        abort(400)\n",
    "\n",
    "    return 'OK'"
   ]
  },
  {
   "cell_type": "code",
   "execution_count": 11,
   "metadata": {},
   "outputs": [],
   "source": [
    "'''\n",
    "\n",
    "消息判斷器\n",
    "\n",
    "讀取指定的json檔案後，把json解析成不同格式的SendMessage\n",
    "\n",
    "讀取檔案，\n",
    "把內容轉換成json\n",
    "將json轉換成消息\n",
    "放回array中，並把array傳出。\n",
    "\n",
    "'''\n",
    "\n",
    "# 引用會用到的套件\n",
    "from linebot.models import (\n",
    "    ImagemapSendMessage,TextSendMessage,ImageSendMessage,LocationSendMessage \n",
    ")\n",
    "\n",
    "from linebot.models.template import (\n",
    "    ButtonsTemplate,CarouselTemplate,ConfirmTemplate,ImageCarouselTemplate\n",
    "    \n",
    ")\n",
    "\n",
    "from linebot.models.template import *\n",
    "\n",
    "def detect_json_array_to_new_message_array(fileName):\n",
    "    \n",
    "    #開啟檔案，轉成json\n",
    "    with open(fileName) as f:\n",
    "        jsonArray = json.load(f)\n",
    "    \n",
    "    # 解析json\n",
    "    returnArray = []\n",
    "    for jsonObject in jsonArray:\n",
    "\n",
    "        # 讀取其用來判斷的元件\n",
    "        message_type = jsonObject.get('type')\n",
    "        \n",
    "        # 轉換\n",
    "        if message_type == 'text':\n",
    "            returnArray.append(TextSendMessage.new_from_json_dict(jsonObject))\n",
    "        elif message_type == 'imagemap':\n",
    "            returnArray.append(ImagemapSendMessage.new_from_json_dict(jsonObject))\n",
    "        elif message_type == 'template':\n",
    "            returnArray.append(TemplateSendMessage.new_from_json_dict(jsonObject))\n",
    "        elif message_type == 'image':\n",
    "            returnArray.append(ImageSendMessage.new_from_json_dict(jsonObject))\n",
    "        elif message_type == 'sticker':\n",
    "            returnArray.append(StickerSendMessage.new_from_json_dict(jsonObject))  \n",
    "        elif message_type == 'audio':\n",
    "            returnArray.append(AudioSendMessage.new_from_json_dict(jsonObject))  \n",
    "        elif message_type == 'location':\n",
    "            returnArray.append(LocationSendMessage.new_from_json_dict(jsonObject))\n",
    "\n",
    "    # 回傳\n",
    "    return returnArray"
   ]
  },
  {
   "cell_type": "code",
   "execution_count": 12,
   "metadata": {},
   "outputs": [],
   "source": [
    "'''\n",
    "\n",
    "handler處理關注消息\n",
    "\n",
    "用戶關注時，讀取 素材 -> 關注 -> reply.json\n",
    "\n",
    "將其轉換成可寄發的消息，傳回給Line\n",
    "\n",
    "'''\n",
    "\n",
    "# 引用套件\n",
    "from linebot.models import (\n",
    "    FollowEvent\n",
    ")\n",
    "\n",
    "# 關注事件處理\n",
    "@handler.add(FollowEvent)\n",
    "def process_follow_event(event):\n",
    "    \n",
    "    # 讀取並轉換\n",
    "    result_message_array =[]\n",
    "    replyJsonPath = \"素材/關注/reply.json\"\n",
    "    result_message_array = detect_json_array_to_new_message_array(replyJsonPath)\n",
    "\n",
    "    # 消息發送\n",
    "    line_bot_api.reply_message(\n",
    "        event.reply_token,\n",
    "        result_message_array\n",
    "    )\n"
   ]
  },
  {
   "cell_type": "code",
   "execution_count": 13,
   "metadata": {},
   "outputs": [],
   "source": [
    "'''\n",
    "\n",
    "handler處理文字消息\n",
    "\n",
    "收到用戶回應的文字消息，\n",
    "按文字消息內容，往素材資料夾中，找尋以該內容命名的資料夾，讀取裡面的reply.json\n",
    "\n",
    "轉譯json後，將消息回傳給用戶\n",
    "\n",
    "'''\n",
    "\n",
    "# 引用套件\n",
    "from linebot.models import (\n",
    "    MessageEvent, TextMessage\n",
    ")\n",
    "\n",
    "# 文字消息處理\n",
    "@handler.add(MessageEvent,message=TextMessage)\n",
    "def process_text_message(event):\n",
    "\n",
    "    # 讀取本地檔案，並轉譯成消息\n",
    "    result_message_array =[]\n",
    "    replyJsonPath = \"素材/\"+event.message.text+\"/reply.json\"\n",
    "    result_message_array = detect_json_array_to_new_message_array(replyJsonPath)\n",
    "\n",
    "    # 發送\n",
    "    line_bot_api.reply_message(\n",
    "        event.reply_token,\n",
    "        result_message_array\n",
    "    )\n"
   ]
  },
  {
   "cell_type": "code",
   "execution_count": 14,
   "metadata": {},
   "outputs": [],
   "source": [
    "'''\n",
    "\n",
    "handler處理Postback Event\n",
    "\n",
    "載入功能選單與啟動特殊功能\n",
    "\n",
    "解析postback的data，並按照data欄位判斷處理\n",
    "\n",
    "現有三個欄位\n",
    "menu, folder, tag\n",
    "\n",
    "若folder欄位有值，則\n",
    "    讀取其reply.json，轉譯成消息，並發送\n",
    "\n",
    "若menu欄位有值，則\n",
    "    讀取其rich_menu_id，並取得用戶id，將用戶與選單綁定\n",
    "    讀取其reply.json，轉譯成消息，並發送\n",
    "\n",
    "'''\n",
    "from linebot.models import (\n",
    "    PostbackEvent\n",
    ")\n",
    "\n",
    "from urllib.parse import parse_qs \n",
    "\n",
    "@handler.add(PostbackEvent)\n",
    "def process_postback_event(event):\n",
    "    \n",
    "\n",
    "\n",
    "    query_string_dict = parse_qs(event.postback.data)\n",
    "    \n",
    "    print(query_string_dict)\n",
    "    if 'folder' in query_string_dict:\n",
    "    \n",
    "        result_message_array =[]\n",
    "\n",
    "        replyJsonPath = '素材/'+query_string_dict.get('folder')[0]+\"/reply.json\"\n",
    "        result_message_array = detect_json_array_to_new_message_array(replyJsonPath)\n",
    "  \n",
    "        line_bot_api.reply_message(\n",
    "            event.reply_token,\n",
    "            result_message_array\n",
    "        )\n",
    "    elif 'menu' in query_string_dict:\n",
    " \n",
    "        linkRichMenuId = open(\"素材/\"+query_string_dict.get('menu')[0]+'/rich_menu_id', 'r').read()\n",
    "        line_bot_api.link_rich_menu_to_user(event.source.user_id,linkRichMenuId)\n",
    "        \n",
    "        replyJsonPath = '素材/'+query_string_dict.get('menu')[0]+\"/reply.json\"\n",
    "        result_message_array = detect_json_array_to_new_message_array(replyJsonPath)\n",
    "  \n",
    "        line_bot_api.reply_message(\n",
    "            event.reply_token,\n",
    "            result_message_array\n",
    "        )"
   ]
  },
  {
   "cell_type": "code",
   "execution_count": 15,
   "metadata": {},
   "outputs": [
    {
     "name": "stderr",
     "output_type": "stream",
     "text": [
      " * Running on http://0.0.0.0:5000/ (Press CTRL+C to quit)\n",
      "172.17.0.3 - - [02/May/2019 04:34:17] \"POST / HTTP/1.1\" 200 -\n",
      "[2019-05-02 04:34:17,829] ERROR in app: Exception on / [POST]\n",
      "Traceback (most recent call last):\n",
      "  File \"/opt/conda/lib/python3.6/site-packages/flask/app.py\", line 1982, in wsgi_app\n",
      "    response = self.full_dispatch_request()\n",
      "  File \"/opt/conda/lib/python3.6/site-packages/flask/app.py\", line 1614, in full_dispatch_request\n",
      "    rv = self.handle_user_exception(e)\n",
      "  File \"/opt/conda/lib/python3.6/site-packages/flask/app.py\", line 1517, in handle_user_exception\n",
      "    reraise(exc_type, exc_value, tb)\n",
      "  File \"/opt/conda/lib/python3.6/site-packages/flask/_compat.py\", line 33, in reraise\n",
      "    raise value\n",
      "  File \"/opt/conda/lib/python3.6/site-packages/flask/app.py\", line 1612, in full_dispatch_request\n",
      "    rv = self.dispatch_request()\n",
      "  File \"/opt/conda/lib/python3.6/site-packages/flask/app.py\", line 1598, in dispatch_request\n",
      "    return self.view_functions[rule.endpoint](**req.view_args)\n",
      "  File \"<ipython-input-10-469a7b2ad557>\", line 46, in callback\n",
      "    handler.handle(body, signature)\n",
      "  File \"/opt/conda/lib/python3.6/site-packages/linebot/webhook.py\", line 230, in handle\n",
      "    func(event)\n",
      "  File \"<ipython-input-12-2c08698c19ad>\", line 28, in process_follow_event\n",
      "    result_message_array\n",
      "  File \"/opt/conda/lib/python3.6/site-packages/linebot/api.py\", line 95, in reply_message\n",
      "    '/v2/bot/message/reply', data=json.dumps(data), timeout=timeout\n",
      "  File \"/opt/conda/lib/python3.6/site-packages/linebot/api.py\", line 561, in _post\n",
      "    self.__check_error(response)\n",
      "  File \"/opt/conda/lib/python3.6/site-packages/linebot/api.py\", line 584, in __check_error\n",
      "    raise LineBotApiError(response.status_code, error)\n",
      "linebot.exceptions.LineBotApiError: LineBotApiError: status_code=400, error_response={\"details\": [{\"message\": \"invalid uri scheme\", \"property\": \"template/thumbnailImageUrl\"}], \"message\": \"A message (messages[1])\\u00a0in the request body is invalid\"}\n",
      "172.17.0.3 - - [02/May/2019 04:34:17] \"POST / HTTP/1.1\" 500 -\n",
      "172.17.0.3 - - [02/May/2019 04:34:46] \"POST / HTTP/1.1\" 200 -\n",
      "172.17.0.3 - - [02/May/2019 04:34:47] \"POST / HTTP/1.1\" 200 -\n"
     ]
    },
    {
     "name": "stdout",
     "output_type": "stream",
     "text": [
      "{'menu': ['rich_menu_1']}\n"
     ]
    },
    {
     "name": "stderr",
     "output_type": "stream",
     "text": [
      "172.17.0.3 - - [02/May/2019 04:34:51] \"POST / HTTP/1.1\" 200 -\n",
      "172.17.0.3 - - [02/May/2019 04:34:52] \"POST / HTTP/1.1\" 200 -\n",
      "172.17.0.3 - - [02/May/2019 04:35:10] \"POST / HTTP/1.1\" 200 -\n"
     ]
    },
    {
     "name": "stdout",
     "output_type": "stream",
     "text": [
      "{'folder': ['天地靈石'], 'tag': ['ai']}\n"
     ]
    },
    {
     "name": "stderr",
     "output_type": "stream",
     "text": [
      "172.17.0.3 - - [02/May/2019 04:35:10] \"POST / HTTP/1.1\" 200 -\n",
      "172.17.0.3 - - [02/May/2019 04:35:12] \"POST / HTTP/1.1\" 200 -\n"
     ]
    },
    {
     "name": "stdout",
     "output_type": "stream",
     "text": [
      "{'folder': ['因果交織'], 'tag': ['blockchain']}\n"
     ]
    },
    {
     "name": "stderr",
     "output_type": "stream",
     "text": [
      "172.17.0.3 - - [02/May/2019 04:35:13] \"POST / HTTP/1.1\" 200 -\n",
      "172.17.0.3 - - [02/May/2019 04:35:16] \"POST / HTTP/1.1\" 200 -\n"
     ]
    },
    {
     "name": "stdout",
     "output_type": "stream",
     "text": [
      "{'folder': ['雲中幻境'], 'tag': ['cloud']}\n"
     ]
    },
    {
     "name": "stderr",
     "output_type": "stream",
     "text": [
      "172.17.0.3 - - [02/May/2019 04:35:17] \"POST / HTTP/1.1\" 200 -\n"
     ]
    },
    {
     "name": "stdout",
     "output_type": "stream",
     "text": [
      "{'folder': ['匆忙幾度'], 'tag': ['devops']}\n"
     ]
    },
    {
     "name": "stderr",
     "output_type": "stream",
     "text": [
      "172.17.0.3 - - [02/May/2019 04:35:23] \"POST / HTTP/1.1\" 200 -\n",
      "172.17.0.3 - - [02/May/2019 04:35:23] \"POST / HTTP/1.1\" 200 -\n",
      "172.17.0.3 - - [02/May/2019 04:35:47] \"POST / HTTP/1.1\" 200 -\n"
     ]
    },
    {
     "name": "stdout",
     "output_type": "stream",
     "text": [
      "{'folder': ['金陵四家'], 'tag': ['contact']}\n"
     ]
    },
    {
     "name": "stderr",
     "output_type": "stream",
     "text": [
      "[2019-05-02 04:35:47,565] ERROR in app: Exception on / [POST]\n",
      "Traceback (most recent call last):\n",
      "  File \"/opt/conda/lib/python3.6/site-packages/flask/app.py\", line 1982, in wsgi_app\n",
      "    response = self.full_dispatch_request()\n",
      "  File \"/opt/conda/lib/python3.6/site-packages/flask/app.py\", line 1614, in full_dispatch_request\n",
      "    rv = self.handle_user_exception(e)\n",
      "  File \"/opt/conda/lib/python3.6/site-packages/flask/app.py\", line 1517, in handle_user_exception\n",
      "    reraise(exc_type, exc_value, tb)\n",
      "  File \"/opt/conda/lib/python3.6/site-packages/flask/_compat.py\", line 33, in reraise\n",
      "    raise value\n",
      "  File \"/opt/conda/lib/python3.6/site-packages/flask/app.py\", line 1612, in full_dispatch_request\n",
      "    rv = self.dispatch_request()\n",
      "  File \"/opt/conda/lib/python3.6/site-packages/flask/app.py\", line 1598, in dispatch_request\n",
      "    return self.view_functions[rule.endpoint](**req.view_args)\n",
      "  File \"<ipython-input-10-469a7b2ad557>\", line 46, in callback\n",
      "    handler.handle(body, signature)\n",
      "  File \"/opt/conda/lib/python3.6/site-packages/linebot/webhook.py\", line 230, in handle\n",
      "    func(event)\n",
      "  File \"<ipython-input-13-3f1666db29ec>\", line 24, in process_text_message\n",
      "    result_message_array = detect_json_array_to_new_message_array(replyJsonPath)\n",
      "  File \"<ipython-input-11-1994f970f3d5>\", line 29, in detect_json_array_to_new_message_array\n",
      "    with open(fileName) as f:\n",
      "FileNotFoundError: [Errno 2] No such file or directory: '素材/點擊旁邊連結 line://ti/p/@gby2522m 進行聯絡/reply.json'\n",
      "172.17.0.3 - - [02/May/2019 04:35:47] \"POST / HTTP/1.1\" 500 -\n",
      "172.17.0.3 - - [02/May/2019 04:36:35] \"POST / HTTP/1.1\" 200 -\n"
     ]
    },
    {
     "name": "stdout",
     "output_type": "stream",
     "text": [
      "{'tag': ['devops|offline|tutorial']}\n"
     ]
    },
    {
     "name": "stderr",
     "output_type": "stream",
     "text": [
      "[2019-05-02 04:36:35,530] ERROR in app: Exception on / [POST]\n",
      "Traceback (most recent call last):\n",
      "  File \"/opt/conda/lib/python3.6/site-packages/flask/app.py\", line 1982, in wsgi_app\n",
      "    response = self.full_dispatch_request()\n",
      "  File \"/opt/conda/lib/python3.6/site-packages/flask/app.py\", line 1614, in full_dispatch_request\n",
      "    rv = self.handle_user_exception(e)\n",
      "  File \"/opt/conda/lib/python3.6/site-packages/flask/app.py\", line 1517, in handle_user_exception\n",
      "    reraise(exc_type, exc_value, tb)\n",
      "  File \"/opt/conda/lib/python3.6/site-packages/flask/_compat.py\", line 33, in reraise\n",
      "    raise value\n",
      "  File \"/opt/conda/lib/python3.6/site-packages/flask/app.py\", line 1612, in full_dispatch_request\n",
      "    rv = self.dispatch_request()\n",
      "  File \"/opt/conda/lib/python3.6/site-packages/flask/app.py\", line 1598, in dispatch_request\n",
      "    return self.view_functions[rule.endpoint](**req.view_args)\n",
      "  File \"<ipython-input-10-469a7b2ad557>\", line 46, in callback\n",
      "    handler.handle(body, signature)\n",
      "  File \"/opt/conda/lib/python3.6/site-packages/linebot/webhook.py\", line 230, in handle\n",
      "    func(event)\n",
      "  File \"<ipython-input-13-3f1666db29ec>\", line 24, in process_text_message\n",
      "    result_message_array = detect_json_array_to_new_message_array(replyJsonPath)\n",
      "  File \"<ipython-input-11-1994f970f3d5>\", line 29, in detect_json_array_to_new_message_array\n",
      "    with open(fileName) as f:\n",
      "FileNotFoundError: [Errno 2] No such file or directory: '素材/https://www.tibame.com/goodjob/cloudnet/reply.json'\n",
      "172.17.0.3 - - [02/May/2019 04:36:35] \"POST / HTTP/1.1\" 500 -\n",
      "172.17.0.3 - - [02/May/2019 04:36:40] \"POST / HTTP/1.1\" 200 -\n"
     ]
    },
    {
     "name": "stdout",
     "output_type": "stream",
     "text": [
      "{'tag': ['devops|offline|tutorial|contact']}\n"
     ]
    },
    {
     "name": "stderr",
     "output_type": "stream",
     "text": [
      "[2019-05-02 04:36:41,180] ERROR in app: Exception on / [POST]\n",
      "Traceback (most recent call last):\n",
      "  File \"/opt/conda/lib/python3.6/site-packages/flask/app.py\", line 1982, in wsgi_app\n",
      "    response = self.full_dispatch_request()\n",
      "  File \"/opt/conda/lib/python3.6/site-packages/flask/app.py\", line 1614, in full_dispatch_request\n",
      "    rv = self.handle_user_exception(e)\n",
      "  File \"/opt/conda/lib/python3.6/site-packages/flask/app.py\", line 1517, in handle_user_exception\n",
      "    reraise(exc_type, exc_value, tb)\n",
      "  File \"/opt/conda/lib/python3.6/site-packages/flask/_compat.py\", line 33, in reraise\n",
      "    raise value\n",
      "  File \"/opt/conda/lib/python3.6/site-packages/flask/app.py\", line 1612, in full_dispatch_request\n",
      "    rv = self.dispatch_request()\n",
      "  File \"/opt/conda/lib/python3.6/site-packages/flask/app.py\", line 1598, in dispatch_request\n",
      "    return self.view_functions[rule.endpoint](**req.view_args)\n",
      "  File \"<ipython-input-10-469a7b2ad557>\", line 46, in callback\n",
      "    handler.handle(body, signature)\n",
      "  File \"/opt/conda/lib/python3.6/site-packages/linebot/webhook.py\", line 230, in handle\n",
      "    func(event)\n",
      "  File \"<ipython-input-13-3f1666db29ec>\", line 24, in process_text_message\n",
      "    result_message_array = detect_json_array_to_new_message_array(replyJsonPath)\n",
      "  File \"<ipython-input-11-1994f970f3d5>\", line 29, in detect_json_array_to_new_message_array\n",
      "    with open(fileName) as f:\n",
      "FileNotFoundError: [Errno 2] No such file or directory: '素材/點擊旁邊連結 line://ti/p/@gby2522m 進行聯絡/reply.json'\n",
      "172.17.0.3 - - [02/May/2019 04:36:41] \"POST / HTTP/1.1\" 500 -\n",
      "172.17.0.3 - - [02/May/2019 04:37:05] \"POST / HTTP/1.1\" 200 -\n"
     ]
    },
    {
     "name": "stdout",
     "output_type": "stream",
     "text": [
      "{'tag': ['aws|cloud|contact|tutorial']}\n"
     ]
    },
    {
     "name": "stderr",
     "output_type": "stream",
     "text": [
      "[2019-05-02 04:37:06,276] ERROR in app: Exception on / [POST]\n",
      "Traceback (most recent call last):\n",
      "  File \"/opt/conda/lib/python3.6/site-packages/flask/app.py\", line 1982, in wsgi_app\n",
      "    response = self.full_dispatch_request()\n",
      "  File \"/opt/conda/lib/python3.6/site-packages/flask/app.py\", line 1614, in full_dispatch_request\n",
      "    rv = self.handle_user_exception(e)\n",
      "  File \"/opt/conda/lib/python3.6/site-packages/flask/app.py\", line 1517, in handle_user_exception\n",
      "    reraise(exc_type, exc_value, tb)\n",
      "  File \"/opt/conda/lib/python3.6/site-packages/flask/_compat.py\", line 33, in reraise\n",
      "    raise value\n",
      "  File \"/opt/conda/lib/python3.6/site-packages/flask/app.py\", line 1612, in full_dispatch_request\n",
      "    rv = self.dispatch_request()\n",
      "  File \"/opt/conda/lib/python3.6/site-packages/flask/app.py\", line 1598, in dispatch_request\n",
      "    return self.view_functions[rule.endpoint](**req.view_args)\n",
      "  File \"<ipython-input-10-469a7b2ad557>\", line 46, in callback\n",
      "    handler.handle(body, signature)\n",
      "  File \"/opt/conda/lib/python3.6/site-packages/linebot/webhook.py\", line 230, in handle\n",
      "    func(event)\n",
      "  File \"<ipython-input-13-3f1666db29ec>\", line 24, in process_text_message\n",
      "    result_message_array = detect_json_array_to_new_message_array(replyJsonPath)\n",
      "  File \"<ipython-input-11-1994f970f3d5>\", line 29, in detect_json_array_to_new_message_array\n",
      "    with open(fileName) as f:\n",
      "FileNotFoundError: [Errno 2] No such file or directory: '素材/點擊旁邊連結 line://ti/p/@gby2522m 進行聯絡/reply.json'\n",
      "172.17.0.3 - - [02/May/2019 04:37:06] \"POST / HTTP/1.1\" 500 -\n",
      "172.17.0.3 - - [02/May/2019 04:37:15] \"POST / HTTP/1.1\" 200 -\n"
     ]
    },
    {
     "name": "stdout",
     "output_type": "stream",
     "text": [
      "{'tag': ['aws|blockchain|contact|tutorial']}\n"
     ]
    },
    {
     "name": "stderr",
     "output_type": "stream",
     "text": [
      "[2019-05-02 04:37:15,696] ERROR in app: Exception on / [POST]\n",
      "Traceback (most recent call last):\n",
      "  File \"/opt/conda/lib/python3.6/site-packages/flask/app.py\", line 1982, in wsgi_app\n",
      "    response = self.full_dispatch_request()\n",
      "  File \"/opt/conda/lib/python3.6/site-packages/flask/app.py\", line 1614, in full_dispatch_request\n",
      "    rv = self.handle_user_exception(e)\n",
      "  File \"/opt/conda/lib/python3.6/site-packages/flask/app.py\", line 1517, in handle_user_exception\n",
      "    reraise(exc_type, exc_value, tb)\n",
      "  File \"/opt/conda/lib/python3.6/site-packages/flask/_compat.py\", line 33, in reraise\n",
      "    raise value\n",
      "  File \"/opt/conda/lib/python3.6/site-packages/flask/app.py\", line 1612, in full_dispatch_request\n",
      "    rv = self.dispatch_request()\n",
      "  File \"/opt/conda/lib/python3.6/site-packages/flask/app.py\", line 1598, in dispatch_request\n",
      "    return self.view_functions[rule.endpoint](**req.view_args)\n",
      "  File \"<ipython-input-10-469a7b2ad557>\", line 46, in callback\n",
      "    handler.handle(body, signature)\n",
      "  File \"/opt/conda/lib/python3.6/site-packages/linebot/webhook.py\", line 230, in handle\n",
      "    func(event)\n",
      "  File \"<ipython-input-13-3f1666db29ec>\", line 24, in process_text_message\n",
      "    result_message_array = detect_json_array_to_new_message_array(replyJsonPath)\n",
      "  File \"<ipython-input-11-1994f970f3d5>\", line 29, in detect_json_array_to_new_message_array\n",
      "    with open(fileName) as f:\n",
      "FileNotFoundError: [Errno 2] No such file or directory: '素材/點擊旁邊連結 line://ti/p/@gby2522m 進行聯絡/reply.json'\n",
      "172.17.0.3 - - [02/May/2019 04:37:15] \"POST / HTTP/1.1\" 500 -\n",
      "172.17.0.3 - - [02/May/2019 04:37:29] \"POST / HTTP/1.1\" 200 -\n"
     ]
    },
    {
     "name": "stdout",
     "output_type": "stream",
     "text": [
      "{'tag': ['chatbot|line|offline|tutorial']}\n"
     ]
    },
    {
     "name": "stderr",
     "output_type": "stream",
     "text": [
      "[2019-05-02 04:37:29,547] ERROR in app: Exception on / [POST]\n",
      "Traceback (most recent call last):\n",
      "  File \"/opt/conda/lib/python3.6/site-packages/flask/app.py\", line 1982, in wsgi_app\n",
      "    response = self.full_dispatch_request()\n",
      "  File \"/opt/conda/lib/python3.6/site-packages/flask/app.py\", line 1614, in full_dispatch_request\n",
      "    rv = self.handle_user_exception(e)\n",
      "  File \"/opt/conda/lib/python3.6/site-packages/flask/app.py\", line 1517, in handle_user_exception\n",
      "    reraise(exc_type, exc_value, tb)\n",
      "  File \"/opt/conda/lib/python3.6/site-packages/flask/_compat.py\", line 33, in reraise\n",
      "    raise value\n",
      "  File \"/opt/conda/lib/python3.6/site-packages/flask/app.py\", line 1612, in full_dispatch_request\n",
      "    rv = self.dispatch_request()\n",
      "  File \"/opt/conda/lib/python3.6/site-packages/flask/app.py\", line 1598, in dispatch_request\n",
      "    return self.view_functions[rule.endpoint](**req.view_args)\n",
      "  File \"<ipython-input-10-469a7b2ad557>\", line 46, in callback\n",
      "    handler.handle(body, signature)\n",
      "  File \"/opt/conda/lib/python3.6/site-packages/linebot/webhook.py\", line 230, in handle\n",
      "    func(event)\n",
      "  File \"<ipython-input-13-3f1666db29ec>\", line 24, in process_text_message\n",
      "    result_message_array = detect_json_array_to_new_message_array(replyJsonPath)\n",
      "  File \"<ipython-input-11-1994f970f3d5>\", line 29, in detect_json_array_to_new_message_array\n",
      "    with open(fileName) as f:\n",
      "FileNotFoundError: [Errno 2] No such file or directory: '素材/https://www.tibame.com/offline/linebot?classUid=82/reply.json'\n",
      "172.17.0.3 - - [02/May/2019 04:37:29] \"POST / HTTP/1.1\" 500 -\n",
      "172.17.0.3 - - [02/May/2019 04:37:29] \"POST / HTTP/1.1\" 200 -\n"
     ]
    },
    {
     "name": "stdout",
     "output_type": "stream",
     "text": [
      "{'tag': ['chatbot|contact|line|project|project']}\n"
     ]
    },
    {
     "name": "stderr",
     "output_type": "stream",
     "text": [
      "[2019-05-02 04:37:30,367] ERROR in app: Exception on / [POST]\n",
      "Traceback (most recent call last):\n",
      "  File \"/opt/conda/lib/python3.6/site-packages/flask/app.py\", line 1982, in wsgi_app\n",
      "    response = self.full_dispatch_request()\n",
      "  File \"/opt/conda/lib/python3.6/site-packages/flask/app.py\", line 1614, in full_dispatch_request\n",
      "    rv = self.handle_user_exception(e)\n",
      "  File \"/opt/conda/lib/python3.6/site-packages/flask/app.py\", line 1517, in handle_user_exception\n",
      "    reraise(exc_type, exc_value, tb)\n",
      "  File \"/opt/conda/lib/python3.6/site-packages/flask/_compat.py\", line 33, in reraise\n",
      "    raise value\n",
      "  File \"/opt/conda/lib/python3.6/site-packages/flask/app.py\", line 1612, in full_dispatch_request\n",
      "    rv = self.dispatch_request()\n",
      "  File \"/opt/conda/lib/python3.6/site-packages/flask/app.py\", line 1598, in dispatch_request\n",
      "    return self.view_functions[rule.endpoint](**req.view_args)\n",
      "  File \"<ipython-input-10-469a7b2ad557>\", line 46, in callback\n",
      "    handler.handle(body, signature)\n",
      "  File \"/opt/conda/lib/python3.6/site-packages/linebot/webhook.py\", line 230, in handle\n",
      "    func(event)\n",
      "  File \"<ipython-input-13-3f1666db29ec>\", line 24, in process_text_message\n",
      "    result_message_array = detect_json_array_to_new_message_array(replyJsonPath)\n",
      "  File \"<ipython-input-11-1994f970f3d5>\", line 29, in detect_json_array_to_new_message_array\n",
      "    with open(fileName) as f:\n",
      "FileNotFoundError: [Errno 2] No such file or directory: '素材/點擊旁邊連結 line://ti/p/@gby2522m 進行聯絡/reply.json'\n",
      "172.17.0.3 - - [02/May/2019 04:37:30] \"POST / HTTP/1.1\" 500 -\n",
      "172.17.0.3 - - [02/May/2019 04:37:42] \"POST / HTTP/1.1\" 200 -\n",
      "172.17.0.3 - - [02/May/2019 04:37:43] \"POST / HTTP/1.1\" 200 -\n"
     ]
    },
    {
     "name": "stdout",
     "output_type": "stream",
     "text": [
      "{'menu': ['rich_menu_2']}\n"
     ]
    },
    {
     "name": "stderr",
     "output_type": "stream",
     "text": [
      "172.17.0.3 - - [02/May/2019 04:37:46] \"POST / HTTP/1.1\" 200 -\n",
      "172.17.0.3 - - [02/May/2019 04:37:47] \"POST / HTTP/1.1\" 200 -\n",
      "172.17.0.3 - - [02/May/2019 04:37:57] \"POST / HTTP/1.1\" 200 -\n"
     ]
    },
    {
     "name": "stdout",
     "output_type": "stream",
     "text": [
      "{'folder': ['才德兩全'], 'tag': ['ai']}\n"
     ]
    },
    {
     "name": "stderr",
     "output_type": "stream",
     "text": [
      "172.17.0.3 - - [02/May/2019 04:37:58] \"POST / HTTP/1.1\" 200 -\n",
      "172.17.0.3 - - [02/May/2019 04:38:02] \"POST / HTTP/1.1\" 200 -\n"
     ]
    },
    {
     "name": "stdout",
     "output_type": "stream",
     "text": [
      "{'folder': ['埋金掛玉'], 'tag': ['blockchain']}\n"
     ]
    },
    {
     "name": "stderr",
     "output_type": "stream",
     "text": [
      "172.17.0.3 - - [02/May/2019 04:38:03] \"POST / HTTP/1.1\" 200 -\n",
      "172.17.0.3 - - [02/May/2019 04:39:14] \"POST / HTTP/1.1\" 200 -\n",
      "172.17.0.3 - - [02/May/2019 04:39:15] \"POST / HTTP/1.1\" 200 -\n"
     ]
    },
    {
     "name": "stdout",
     "output_type": "stream",
     "text": [
      "{'folder': ['冷香熱藏'], 'tag': ['cloud']}\n"
     ]
    },
    {
     "name": "stderr",
     "output_type": "stream",
     "text": [
      "172.17.0.3 - - [02/May/2019 04:39:20] \"POST / HTTP/1.1\" 200 -\n"
     ]
    },
    {
     "name": "stdout",
     "output_type": "stream",
     "text": [
      "{'folder': ['冷香熱藏'], 'tag': ['cloud']}\n"
     ]
    },
    {
     "name": "stderr",
     "output_type": "stream",
     "text": [
      "172.17.0.3 - - [02/May/2019 04:39:21] \"POST / HTTP/1.1\" 200 -\n",
      "172.17.0.3 - - [02/May/2019 04:39:25] \"POST / HTTP/1.1\" 200 -\n"
     ]
    },
    {
     "name": "stdout",
     "output_type": "stream",
     "text": [
      "{'folder': ['藏愚守拙'], 'tag': ['devops']}\n"
     ]
    },
    {
     "name": "stderr",
     "output_type": "stream",
     "text": [
      "172.17.0.3 - - [02/May/2019 04:39:25] \"POST / HTTP/1.1\" 200 -\n",
      "172.17.0.3 - - [02/May/2019 04:39:32] \"POST / HTTP/1.1\" 200 -\n"
     ]
    },
    {
     "name": "stdout",
     "output_type": "stream",
     "text": [
      "{'folder': ['金陵四家'], 'tag': ['contact']}\n"
     ]
    },
    {
     "name": "stderr",
     "output_type": "stream",
     "text": [
      "[2019-05-02 04:39:32,500] ERROR in app: Exception on / [POST]\n",
      "Traceback (most recent call last):\n",
      "  File \"/opt/conda/lib/python3.6/site-packages/flask/app.py\", line 1982, in wsgi_app\n",
      "    response = self.full_dispatch_request()\n",
      "  File \"/opt/conda/lib/python3.6/site-packages/flask/app.py\", line 1614, in full_dispatch_request\n",
      "    rv = self.handle_user_exception(e)\n",
      "  File \"/opt/conda/lib/python3.6/site-packages/flask/app.py\", line 1517, in handle_user_exception\n",
      "    reraise(exc_type, exc_value, tb)\n",
      "  File \"/opt/conda/lib/python3.6/site-packages/flask/_compat.py\", line 33, in reraise\n",
      "    raise value\n",
      "  File \"/opt/conda/lib/python3.6/site-packages/flask/app.py\", line 1612, in full_dispatch_request\n",
      "    rv = self.dispatch_request()\n",
      "  File \"/opt/conda/lib/python3.6/site-packages/flask/app.py\", line 1598, in dispatch_request\n",
      "    return self.view_functions[rule.endpoint](**req.view_args)\n",
      "  File \"<ipython-input-10-469a7b2ad557>\", line 46, in callback\n",
      "    handler.handle(body, signature)\n",
      "  File \"/opt/conda/lib/python3.6/site-packages/linebot/webhook.py\", line 230, in handle\n",
      "    func(event)\n",
      "  File \"<ipython-input-13-3f1666db29ec>\", line 24, in process_text_message\n",
      "    result_message_array = detect_json_array_to_new_message_array(replyJsonPath)\n",
      "  File \"<ipython-input-11-1994f970f3d5>\", line 29, in detect_json_array_to_new_message_array\n",
      "    with open(fileName) as f:\n",
      "FileNotFoundError: [Errno 2] No such file or directory: '素材/點擊旁邊連結 line://ti/p/@gby2522m 進行聯絡/reply.json'\n",
      "172.17.0.3 - - [02/May/2019 04:39:32] \"POST / HTTP/1.1\" 500 -\n",
      "172.17.0.3 - - [02/May/2019 04:39:46] \"POST / HTTP/1.1\" 200 -\n",
      "172.17.0.3 - - [02/May/2019 04:39:47] \"POST / HTTP/1.1\" 200 -\n"
     ]
    },
    {
     "name": "stdout",
     "output_type": "stream",
     "text": [
      "{'menu': ['rich_menu_3']}\n"
     ]
    },
    {
     "name": "stderr",
     "output_type": "stream",
     "text": [
      "172.17.0.3 - - [02/May/2019 04:39:51] \"POST / HTTP/1.1\" 200 -\n",
      "172.17.0.3 - - [02/May/2019 04:39:51] \"POST / HTTP/1.1\" 200 -\n",
      "[2019-05-02 04:39:59,630] ERROR in app: Exception on / [POST]\n",
      "Traceback (most recent call last):\n",
      "  File \"/opt/conda/lib/python3.6/site-packages/flask/app.py\", line 1982, in wsgi_app\n",
      "    response = self.full_dispatch_request()\n",
      "  File \"/opt/conda/lib/python3.6/site-packages/flask/app.py\", line 1614, in full_dispatch_request\n",
      "    rv = self.handle_user_exception(e)\n",
      "  File \"/opt/conda/lib/python3.6/site-packages/flask/app.py\", line 1517, in handle_user_exception\n",
      "    reraise(exc_type, exc_value, tb)\n",
      "  File \"/opt/conda/lib/python3.6/site-packages/flask/_compat.py\", line 33, in reraise\n",
      "    raise value\n",
      "  File \"/opt/conda/lib/python3.6/site-packages/flask/app.py\", line 1612, in full_dispatch_request\n",
      "    rv = self.dispatch_request()\n",
      "  File \"/opt/conda/lib/python3.6/site-packages/flask/app.py\", line 1598, in dispatch_request\n",
      "    return self.view_functions[rule.endpoint](**req.view_args)\n",
      "  File \"<ipython-input-10-469a7b2ad557>\", line 46, in callback\n",
      "    handler.handle(body, signature)\n",
      "  File \"/opt/conda/lib/python3.6/site-packages/linebot/webhook.py\", line 230, in handle\n",
      "    func(event)\n",
      "  File \"<ipython-input-14-d36c9af84335>\", line 39, in process_postback_event\n",
      "    result_message_array = detect_json_array_to_new_message_array(replyJsonPath)\n",
      "  File \"<ipython-input-11-1994f970f3d5>\", line 29, in detect_json_array_to_new_message_array\n",
      "    with open(fileName) as f:\n",
      "FileNotFoundError: [Errno 2] No such file or directory: '素材/凡鳥末世/reply.json'\n",
      "172.17.0.3 - - [02/May/2019 04:39:59] \"POST / HTTP/1.1\" 500 -\n"
     ]
    },
    {
     "name": "stdout",
     "output_type": "stream",
     "text": [
      "{'folder': ['凡鳥末世'], 'tag': ['ai']}\n"
     ]
    },
    {
     "name": "stderr",
     "output_type": "stream",
     "text": [
      "172.17.0.3 - - [02/May/2019 04:40:00] \"POST / HTTP/1.1\" 200 -\n",
      "[2019-05-02 04:40:03,116] ERROR in app: Exception on / [POST]\n",
      "Traceback (most recent call last):\n",
      "  File \"/opt/conda/lib/python3.6/site-packages/flask/app.py\", line 1982, in wsgi_app\n",
      "    response = self.full_dispatch_request()\n",
      "  File \"/opt/conda/lib/python3.6/site-packages/flask/app.py\", line 1614, in full_dispatch_request\n",
      "    rv = self.handle_user_exception(e)\n",
      "  File \"/opt/conda/lib/python3.6/site-packages/flask/app.py\", line 1517, in handle_user_exception\n",
      "    reraise(exc_type, exc_value, tb)\n",
      "  File \"/opt/conda/lib/python3.6/site-packages/flask/_compat.py\", line 33, in reraise\n",
      "    raise value\n",
      "  File \"/opt/conda/lib/python3.6/site-packages/flask/app.py\", line 1612, in full_dispatch_request\n",
      "    rv = self.dispatch_request()\n",
      "  File \"/opt/conda/lib/python3.6/site-packages/flask/app.py\", line 1598, in dispatch_request\n",
      "    return self.view_functions[rule.endpoint](**req.view_args)\n",
      "  File \"<ipython-input-10-469a7b2ad557>\", line 46, in callback\n",
      "    handler.handle(body, signature)\n",
      "  File \"/opt/conda/lib/python3.6/site-packages/linebot/webhook.py\", line 230, in handle\n",
      "    func(event)\n",
      "  File \"<ipython-input-14-d36c9af84335>\", line 39, in process_postback_event\n",
      "    result_message_array = detect_json_array_to_new_message_array(replyJsonPath)\n",
      "  File \"<ipython-input-11-1994f970f3d5>\", line 29, in detect_json_array_to_new_message_array\n",
      "    with open(fileName) as f:\n",
      "FileNotFoundError: [Errno 2] No such file or directory: '素材/月錢放貸/reply.json'\n",
      "172.17.0.3 - - [02/May/2019 04:40:03] \"POST / HTTP/1.1\" 500 -\n"
     ]
    },
    {
     "name": "stdout",
     "output_type": "stream",
     "text": [
      "{'folder': ['月錢放貸'], 'tag': ['blockchain']}\n"
     ]
    },
    {
     "name": "stderr",
     "output_type": "stream",
     "text": [
      "172.17.0.3 - - [02/May/2019 04:40:03] \"POST / HTTP/1.1\" 200 -\n",
      "[2019-05-02 04:40:04,863] ERROR in app: Exception on / [POST]\n",
      "Traceback (most recent call last):\n",
      "  File \"/opt/conda/lib/python3.6/site-packages/flask/app.py\", line 1982, in wsgi_app\n",
      "    response = self.full_dispatch_request()\n",
      "  File \"/opt/conda/lib/python3.6/site-packages/flask/app.py\", line 1614, in full_dispatch_request\n",
      "    rv = self.handle_user_exception(e)\n",
      "  File \"/opt/conda/lib/python3.6/site-packages/flask/app.py\", line 1517, in handle_user_exception\n",
      "    reraise(exc_type, exc_value, tb)\n",
      "  File \"/opt/conda/lib/python3.6/site-packages/flask/_compat.py\", line 33, in reraise\n",
      "    raise value\n",
      "  File \"/opt/conda/lib/python3.6/site-packages/flask/app.py\", line 1612, in full_dispatch_request\n",
      "    rv = self.dispatch_request()\n",
      "  File \"/opt/conda/lib/python3.6/site-packages/flask/app.py\", line 1598, in dispatch_request\n",
      "    return self.view_functions[rule.endpoint](**req.view_args)\n",
      "  File \"<ipython-input-10-469a7b2ad557>\", line 46, in callback\n",
      "    handler.handle(body, signature)\n",
      "  File \"/opt/conda/lib/python3.6/site-packages/linebot/webhook.py\", line 230, in handle\n",
      "    func(event)\n",
      "  File \"<ipython-input-14-d36c9af84335>\", line 39, in process_postback_event\n",
      "    result_message_array = detect_json_array_to_new_message_array(replyJsonPath)\n",
      "  File \"<ipython-input-11-1994f970f3d5>\", line 29, in detect_json_array_to_new_message_array\n",
      "    with open(fileName) as f:\n",
      "FileNotFoundError: [Errno 2] No such file or directory: '素材/風月寶鑑/reply.json'\n",
      "172.17.0.3 - - [02/May/2019 04:40:04] \"POST / HTTP/1.1\" 500 -\n"
     ]
    },
    {
     "name": "stdout",
     "output_type": "stream",
     "text": [
      "{'folder': ['風月寶鑑'], 'tag': ['cloud']}\n"
     ]
    },
    {
     "name": "stderr",
     "output_type": "stream",
     "text": [
      "172.17.0.3 - - [02/May/2019 04:40:05] \"POST / HTTP/1.1\" 200 -\n",
      "172.17.0.3 - - [02/May/2019 04:40:07] \"POST / HTTP/1.1\" 200 -\n",
      "[2019-05-02 04:40:07,936] ERROR in app: Exception on / [POST]\n",
      "Traceback (most recent call last):\n",
      "  File \"/opt/conda/lib/python3.6/site-packages/flask/app.py\", line 1982, in wsgi_app\n",
      "    response = self.full_dispatch_request()\n",
      "  File \"/opt/conda/lib/python3.6/site-packages/flask/app.py\", line 1614, in full_dispatch_request\n",
      "    rv = self.handle_user_exception(e)\n",
      "  File \"/opt/conda/lib/python3.6/site-packages/flask/app.py\", line 1517, in handle_user_exception\n",
      "    reraise(exc_type, exc_value, tb)\n",
      "  File \"/opt/conda/lib/python3.6/site-packages/flask/_compat.py\", line 33, in reraise\n",
      "    raise value\n",
      "  File \"/opt/conda/lib/python3.6/site-packages/flask/app.py\", line 1612, in full_dispatch_request\n",
      "    rv = self.dispatch_request()\n",
      "  File \"/opt/conda/lib/python3.6/site-packages/flask/app.py\", line 1598, in dispatch_request\n",
      "    return self.view_functions[rule.endpoint](**req.view_args)\n",
      "  File \"<ipython-input-10-469a7b2ad557>\", line 46, in callback\n",
      "    handler.handle(body, signature)\n",
      "  File \"/opt/conda/lib/python3.6/site-packages/linebot/webhook.py\", line 230, in handle\n",
      "    func(event)\n",
      "  File \"<ipython-input-14-d36c9af84335>\", line 39, in process_postback_event\n",
      "    result_message_array = detect_json_array_to_new_message_array(replyJsonPath)\n",
      "  File \"<ipython-input-11-1994f970f3d5>\", line 29, in detect_json_array_to_new_message_array\n",
      "    with open(fileName) as f:\n",
      "FileNotFoundError: [Errno 2] No such file or directory: '素材/從令人木/reply.json'\n",
      "172.17.0.3 - - [02/May/2019 04:40:07] \"POST / HTTP/1.1\" 500 -\n"
     ]
    },
    {
     "name": "stdout",
     "output_type": "stream",
     "text": [
      "{'folder': ['從令人木'], 'tag': ['devops']}\n"
     ]
    },
    {
     "name": "stderr",
     "output_type": "stream",
     "text": [
      "[2019-05-02 04:40:09,039] ERROR in app: Exception on / [POST]\n",
      "Traceback (most recent call last):\n",
      "  File \"/opt/conda/lib/python3.6/site-packages/flask/app.py\", line 1982, in wsgi_app\n",
      "    response = self.full_dispatch_request()\n",
      "  File \"/opt/conda/lib/python3.6/site-packages/flask/app.py\", line 1614, in full_dispatch_request\n",
      "    rv = self.handle_user_exception(e)\n",
      "  File \"/opt/conda/lib/python3.6/site-packages/flask/app.py\", line 1517, in handle_user_exception\n",
      "    reraise(exc_type, exc_value, tb)\n",
      "  File \"/opt/conda/lib/python3.6/site-packages/flask/_compat.py\", line 33, in reraise\n",
      "    raise value\n",
      "  File \"/opt/conda/lib/python3.6/site-packages/flask/app.py\", line 1612, in full_dispatch_request\n",
      "    rv = self.dispatch_request()\n",
      "  File \"/opt/conda/lib/python3.6/site-packages/flask/app.py\", line 1598, in dispatch_request\n",
      "    return self.view_functions[rule.endpoint](**req.view_args)\n",
      "  File \"<ipython-input-10-469a7b2ad557>\", line 46, in callback\n",
      "    handler.handle(body, signature)\n",
      "  File \"/opt/conda/lib/python3.6/site-packages/linebot/webhook.py\", line 230, in handle\n",
      "    func(event)\n",
      "  File \"<ipython-input-14-d36c9af84335>\", line 39, in process_postback_event\n",
      "    result_message_array = detect_json_array_to_new_message_array(replyJsonPath)\n",
      "  File \"<ipython-input-11-1994f970f3d5>\", line 29, in detect_json_array_to_new_message_array\n",
      "    with open(fileName) as f:\n",
      "FileNotFoundError: [Errno 2] No such file or directory: '素材/濟劉恩巧/reply.json'\n",
      "172.17.0.3 - - [02/May/2019 04:40:09] \"POST / HTTP/1.1\" 500 -\n"
     ]
    },
    {
     "name": "stdout",
     "output_type": "stream",
     "text": [
      "{'folder': ['濟劉恩巧'], 'tag': ['contact']}\n"
     ]
    },
    {
     "name": "stderr",
     "output_type": "stream",
     "text": [
      "[2019-05-02 04:40:09,881] ERROR in app: Exception on / [POST]\n",
      "Traceback (most recent call last):\n",
      "  File \"/opt/conda/lib/python3.6/site-packages/flask/app.py\", line 1982, in wsgi_app\n",
      "    response = self.full_dispatch_request()\n",
      "  File \"/opt/conda/lib/python3.6/site-packages/flask/app.py\", line 1614, in full_dispatch_request\n",
      "    rv = self.handle_user_exception(e)\n",
      "  File \"/opt/conda/lib/python3.6/site-packages/flask/app.py\", line 1517, in handle_user_exception\n",
      "    reraise(exc_type, exc_value, tb)\n",
      "  File \"/opt/conda/lib/python3.6/site-packages/flask/_compat.py\", line 33, in reraise\n",
      "    raise value\n",
      "  File \"/opt/conda/lib/python3.6/site-packages/flask/app.py\", line 1612, in full_dispatch_request\n",
      "    rv = self.dispatch_request()\n",
      "  File \"/opt/conda/lib/python3.6/site-packages/flask/app.py\", line 1598, in dispatch_request\n",
      "    return self.view_functions[rule.endpoint](**req.view_args)\n",
      "  File \"<ipython-input-10-469a7b2ad557>\", line 46, in callback\n",
      "    handler.handle(body, signature)\n",
      "  File \"/opt/conda/lib/python3.6/site-packages/linebot/webhook.py\", line 230, in handle\n",
      "    func(event)\n",
      "  File \"<ipython-input-13-3f1666db29ec>\", line 24, in process_text_message\n",
      "    result_message_array = detect_json_array_to_new_message_array(replyJsonPath)\n",
      "  File \"<ipython-input-11-1994f970f3d5>\", line 29, in detect_json_array_to_new_message_array\n",
      "    with open(fileName) as f:\n",
      "FileNotFoundError: [Errno 2] No such file or directory: '素材/點擊旁邊連結 line://ti/p/@gby2522m 進行聯絡/reply.json'\n",
      "172.17.0.3 - - [02/May/2019 04:40:09] \"POST / HTTP/1.1\" 500 -\n",
      "172.17.0.3 - - [02/May/2019 04:40:52] \"POST / HTTP/1.1\" 200 -\n",
      "172.17.0.3 - - [02/May/2019 04:40:52] \"POST / HTTP/1.1\" 200 -\n",
      "[2019-05-02 04:41:01,474] ERROR in app: Exception on / [POST]\n",
      "Traceback (most recent call last):\n",
      "  File \"/opt/conda/lib/python3.6/site-packages/flask/app.py\", line 1982, in wsgi_app\n",
      "    response = self.full_dispatch_request()\n",
      "  File \"/opt/conda/lib/python3.6/site-packages/flask/app.py\", line 1614, in full_dispatch_request\n",
      "    rv = self.handle_user_exception(e)\n",
      "  File \"/opt/conda/lib/python3.6/site-packages/flask/app.py\", line 1517, in handle_user_exception\n",
      "    reraise(exc_type, exc_value, tb)\n",
      "  File \"/opt/conda/lib/python3.6/site-packages/flask/_compat.py\", line 33, in reraise\n",
      "    raise value\n",
      "  File \"/opt/conda/lib/python3.6/site-packages/flask/app.py\", line 1612, in full_dispatch_request\n",
      "    rv = self.dispatch_request()\n",
      "  File \"/opt/conda/lib/python3.6/site-packages/flask/app.py\", line 1598, in dispatch_request\n",
      "    return self.view_functions[rule.endpoint](**req.view_args)\n",
      "  File \"<ipython-input-10-469a7b2ad557>\", line 46, in callback\n",
      "    handler.handle(body, signature)\n",
      "  File \"/opt/conda/lib/python3.6/site-packages/linebot/webhook.py\", line 230, in handle\n",
      "    func(event)\n",
      "  File \"<ipython-input-14-d36c9af84335>\", line 51, in process_postback_event\n",
      "    result_message_array = detect_json_array_to_new_message_array(replyJsonPath)\n",
      "  File \"<ipython-input-11-1994f970f3d5>\", line 29, in detect_json_array_to_new_message_array\n",
      "    with open(fileName) as f:\n",
      "FileNotFoundError: [Errno 2] No such file or directory: '素材/rich_menu_0/reply.json'\n",
      "172.17.0.3 - - [02/May/2019 04:41:01] \"POST / HTTP/1.1\" 500 -\n"
     ]
    },
    {
     "name": "stdout",
     "output_type": "stream",
     "text": [
      "{'menu': ['rich_menu_0']}\n"
     ]
    },
    {
     "name": "stderr",
     "output_type": "stream",
     "text": [
      "172.17.0.3 - - [02/May/2019 04:41:02] \"POST / HTTP/1.1\" 200 -\n",
      "172.17.0.3 - - [02/May/2019 04:41:07] \"POST / HTTP/1.1\" 200 -\n"
     ]
    },
    {
     "name": "stdout",
     "output_type": "stream",
     "text": [
      "{'tag': ['ai']}\n"
     ]
    },
    {
     "name": "stderr",
     "output_type": "stream",
     "text": [
      "172.17.0.3 - - [02/May/2019 04:41:08] \"POST / HTTP/1.1\" 200 -\n",
      "172.17.0.3 - - [02/May/2019 04:41:10] \"POST / HTTP/1.1\" 200 -\n"
     ]
    },
    {
     "name": "stdout",
     "output_type": "stream",
     "text": [
      "{'tag': ['blockchain']}\n"
     ]
    },
    {
     "name": "stderr",
     "output_type": "stream",
     "text": [
      "172.17.0.3 - - [02/May/2019 04:41:10] \"POST / HTTP/1.1\" 200 -\n",
      "172.17.0.3 - - [02/May/2019 04:41:12] \"POST / HTTP/1.1\" 200 -\n"
     ]
    },
    {
     "name": "stdout",
     "output_type": "stream",
     "text": [
      "{'tag': ['cloud']}\n"
     ]
    },
    {
     "name": "stderr",
     "output_type": "stream",
     "text": [
      "172.17.0.3 - - [02/May/2019 04:41:13] \"POST / HTTP/1.1\" 200 -\n",
      "172.17.0.3 - - [02/May/2019 04:41:15] \"POST / HTTP/1.1\" 200 -\n",
      "172.17.0.3 - - [02/May/2019 04:41:15] \"POST / HTTP/1.1\" 200 -\n"
     ]
    },
    {
     "name": "stdout",
     "output_type": "stream",
     "text": [
      "{'tag': ['devops']}\n"
     ]
    },
    {
     "name": "stderr",
     "output_type": "stream",
     "text": [
      "172.17.0.3 - - [02/May/2019 04:41:17] \"POST / HTTP/1.1\" 200 -\n"
     ]
    },
    {
     "name": "stdout",
     "output_type": "stream",
     "text": [
      "{'tag': ['contact']}\n"
     ]
    },
    {
     "name": "stderr",
     "output_type": "stream",
     "text": [
      "[2019-05-02 04:41:18,058] ERROR in app: Exception on / [POST]\n",
      "Traceback (most recent call last):\n",
      "  File \"/opt/conda/lib/python3.6/site-packages/flask/app.py\", line 1982, in wsgi_app\n",
      "    response = self.full_dispatch_request()\n",
      "  File \"/opt/conda/lib/python3.6/site-packages/flask/app.py\", line 1614, in full_dispatch_request\n",
      "    rv = self.handle_user_exception(e)\n",
      "  File \"/opt/conda/lib/python3.6/site-packages/flask/app.py\", line 1517, in handle_user_exception\n",
      "    reraise(exc_type, exc_value, tb)\n",
      "  File \"/opt/conda/lib/python3.6/site-packages/flask/_compat.py\", line 33, in reraise\n",
      "    raise value\n",
      "  File \"/opt/conda/lib/python3.6/site-packages/flask/app.py\", line 1612, in full_dispatch_request\n",
      "    rv = self.dispatch_request()\n",
      "  File \"/opt/conda/lib/python3.6/site-packages/flask/app.py\", line 1598, in dispatch_request\n",
      "    return self.view_functions[rule.endpoint](**req.view_args)\n",
      "  File \"<ipython-input-10-469a7b2ad557>\", line 46, in callback\n",
      "    handler.handle(body, signature)\n",
      "  File \"/opt/conda/lib/python3.6/site-packages/linebot/webhook.py\", line 230, in handle\n",
      "    func(event)\n",
      "  File \"<ipython-input-13-3f1666db29ec>\", line 24, in process_text_message\n",
      "    result_message_array = detect_json_array_to_new_message_array(replyJsonPath)\n",
      "  File \"<ipython-input-11-1994f970f3d5>\", line 29, in detect_json_array_to_new_message_array\n",
      "    with open(fileName) as f:\n",
      "FileNotFoundError: [Errno 2] No such file or directory: '素材/點擊旁邊連結 line://ti/p/@gby2522m 進行聯絡/reply.json'\n",
      "172.17.0.3 - - [02/May/2019 04:41:18] \"POST / HTTP/1.1\" 500 -\n",
      "172.17.0.3 - - [02/May/2019 04:41:26] \"POST / HTTP/1.1\" 200 -\n"
     ]
    },
    {
     "name": "stdout",
     "output_type": "stream",
     "text": [
      "{'tag': ['change_menu']}\n"
     ]
    },
    {
     "name": "stderr",
     "output_type": "stream",
     "text": [
      "172.17.0.3 - - [02/May/2019 04:41:27] \"POST / HTTP/1.1\" 200 -\n"
     ]
    }
   ],
   "source": [
    "'''\n",
    "\n",
    "Application 運行（開發版）\n",
    "\n",
    "'''\n",
    "if __name__ == \"__main__\":\n",
    "    app.run(host='0.0.0.0')"
   ]
  },
  {
   "cell_type": "code",
   "execution_count": 16,
   "metadata": {},
   "outputs": [
    {
     "data": {
      "text/plain": [
       "'\\n\\nApplication 運行（heroku版）\\n\\n'"
      ]
     },
     "execution_count": 16,
     "metadata": {},
     "output_type": "execute_result"
    }
   ],
   "source": [
    "'''\n",
    "\n",
    "Application 運行（heroku版）\n",
    "\n",
    "'''\n",
    "\n",
    "# import os\n",
    "# if __name__ == \"__main__\":\n",
    "#     app.run(host='0.0.0.0',port=os.environ['PORT'])"
   ]
  },
  {
   "cell_type": "code",
   "execution_count": null,
   "metadata": {},
   "outputs": [],
   "source": []
  }
 ],
 "metadata": {
  "kernelspec": {
   "display_name": "Python 3",
   "language": "python",
   "name": "python3"
  },
  "language_info": {
   "codemirror_mode": {
    "name": "ipython",
    "version": 3
   },
   "file_extension": ".py",
   "mimetype": "text/x-python",
   "name": "python",
   "nbconvert_exporter": "python",
   "pygments_lexer": "ipython3",
   "version": "3.6.4"
  }
 },
 "nbformat": 4,
 "nbformat_minor": 2
}
